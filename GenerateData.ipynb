{
 "cells": [
  {
   "cell_type": "markdown",
   "metadata": {},
   "source": [
    "# Objective\n",
    "### Identify chemical compound(s) in the $Al-O-Sr-Li$ composition space as well as binary and ternary mixtures of these compounds from XRD-patterns\n",
    "### This corresponds to a multi-class and multi-label classifi"
   ]
  },
  {
   "cell_type": "markdown",
   "metadata": {},
   "source": [
    "# The XRD-patterns of the following compounds are considered\n",
    "\n",
    "| class |  <div style=\"width:290px\">Compound</div>  | Space Group|\n",
    "| --- | --- | ---|\n",
    "| 1 | $Al_2O_3$ | R-3cH|\n",
    "| 2 | $(Al_2O_3)_{1.333}$ | Fd-3mZ|\n",
    "| 3 | $Al_2O_3$ | Pna2_1|\n",
    "| 4 | $Al_2O_3$ | C12/m1|\n",
    "| 5 | $(Al_2O_3)_{1.333}$| I4_1/amdZ| \n",
    "| 6 | $Al_2O_3$ |Fd-3mZ|\n",
    "| 7 | $(Al_2O_3)_{1.333}$| Fm-3m| \n",
    "| 8 | $Al_2O_3$ | Fm-3m|\n",
    "| 9 | $AlO$ | Fm-3m|\n",
    "|10 | $Al Al_{1.67}O_4$| P-4m2|\n",
    "|11 | $Li_2O$| Fm-3m|\n",
    "|12 | $Li_2O_2$ | P6_3/mmc|\n",
    "|13 | $Li_2O_2$ | P-6|\n",
    "|14 | $Li_2O$ | R-3mH|\n",
    "|15 | $SrO$ | Fm-3m|\n",
    "|16 | $SrO_2$ | I4/mmm|\n",
    "|17 | $LiAlO_2$| P4_12_12|\n",
    "|18 | $Li_5AlO_4$| PmmnZ|\n",
    "|19 | $LiAl_5O_8$| P4_332|\n",
    "|20 | $LiAlO_2$|R-3mH|\n",
    "|21 | $LiAlO_2$|I4_1/amdZ|\n",
    "|22 | $Sr(Al_2O_4)$| P12_11|\n",
    "|23 | $Sr_4Al_{14}O_{25}$| Pmma|\n",
    "|24 | $Sr(Al_2O_4)$|P6_3|\n",
    "|25 | $Sr_9(Al_6O_{18})$| Pa-3| \n",
    "|26 | $(SrO)(Al_2O_3)_2$| C12/c1|\n",
    "|27 | $Sr_7Al_{12}O_{25}$|P-3|\n",
    "|28 | $Sr_{10}Al_6O_{19}$|C12/c1|\n",
    "|29 | $Sr_2(Al_6O_{11})$|Pnnm|\n",
    "\n",
    "\n",
    "## The *.cif - files are obtained from the Crystallography Open Database\n",
    "http://www.crystallography.net/cod/"
   ]
  },
  {
   "cell_type": "code",
   "execution_count": 1,
   "metadata": {},
   "outputs": [],
   "source": [
    "import os\n",
    "import glob\n",
    "\n",
    "%matplotlib inline\n",
    "import numpy as np\n",
    "import matplotlib.pyplot as plt\n",
    "import pymatgen as pm\n",
    "from scipy.signal import savgol_filter\n",
    "from scipy.signal import find_peaks_cwt\n",
    "from scipy import interpolate\n",
    "\n",
    "# pymatgen is used to simulate xrd patterns from cif files\n",
    "from pymatgen.analysis.diffraction.xrd import XRDCalculator"
   ]
  },
  {
   "cell_type": "markdown",
   "metadata": {},
   "source": [
    "# Define Preprocessing functions\n",
    "## These are used to extract peaks and augment data by randomly ...\n",
    "- scaling peaks (preferred orientations, growth)\n",
    "- eliminating peaks\n",
    "- shifting pattern \n",
    "\n",
    "### This is done to simulate typical effects observed with thin films such as preferred crystallographic orientations and residual stresses"
   ]
  },
  {
   "cell_type": "code",
   "execution_count": 2,
   "metadata": {},
   "outputs": [],
   "source": [
    "def find_peaks(data):\n",
    "    # first savgol filter\n",
    "    data_flt=savgol_filter(data,13,3)\n",
    "    \n",
    "    # zf are peak indices\n",
    "    zf= find_peaks_cwt(data_flt[1,:], np.arange(1,10), noise_perc=0.01)    \n",
    "    \n",
    "    # Normalize\n",
    "    y_pks=np.zeros((data.shape[1],1));\n",
    "    y_pks[zf,0]=data_flt[1,zf]\n",
    "    y_pks[:,0]=(y_pks[:,0]-np.min(y_pks,axis=0))/(np.max(y_pks,axis=0)-np.min(y_pks,axis=0))    \n",
    "    return y_pks, zf"
   ]
  },
  {
   "cell_type": "code",
   "execution_count": 3,
   "metadata": {},
   "outputs": [],
   "source": [
    "def scale_peaks(y,zf):\n",
    "    scale_min = 0.33 #dont scale lower than this    \n",
    "    scale_facs=np.random.uniform(scale_min,1.0,(len(zf),1))\n",
    "    \n",
    "    y_pks_scale = np.copy(y)\n",
    "    y_pks_scale[zf] = y_pks_scale[zf]*scale_facs\n",
    "        \n",
    "    return y_pks_scale"
   ]
  },
  {
   "cell_type": "code",
   "execution_count": 4,
   "metadata": {},
   "outputs": [],
   "source": [
    "def elim_peaks(y,zf):\n",
    "    frac_elim_max = 0.35\n",
    "    frac_elim = np.random.uniform(0.,frac_elim_max)\n",
    "    pick_elems=np.ceil(frac_elim*len(zf)).astype(int)\n",
    "    elim_indices=np.random.choice(zf,pick_elems)    \n",
    "    \n",
    "    y_pks_elim = np.copy(y)\n",
    "    y_pks_elim[elim_indices]=0\n",
    "    \n",
    "    return y_pks_elim"
   ]
  },
  {
   "cell_type": "code",
   "execution_count": 5,
   "metadata": {},
   "outputs": [],
   "source": [
    "def shift_peaks(y,zf):\n",
    "    shift_frac = 0.05 # max shift\n",
    "    shift_int = int(shift_frac * len(y))\n",
    "    shift_idx = np.random.randint(-shift_int,shift_int)\n",
    "\n",
    "    y_shifted = np.zeros(y.shape)\n",
    "    for i in range(len(y)-1):\n",
    "        if i+shift_idx < 0 or i+shift_idx > len(y)-1:\n",
    "            continue    \n",
    "        y_shifted[i+shift_idx,0]=y[i,0]    \n",
    "    \n",
    "    return y_shifted"
   ]
  },
  {
   "cell_type": "markdown",
   "metadata": {},
   "source": [
    "# Test Preproc - functions"
   ]
  },
  {
   "cell_type": "code",
   "execution_count": 6,
   "metadata": {},
   "outputs": [],
   "source": [
    "p = './foo.cif' # just a random example\n",
    "structure = pm.Structure.from_file(p)\n",
    "xrd = XRDCalculator() \n",
    "pattern = xrd.get_pattern(structure)\n",
    "data = np.array([pattern.x, pattern.y])"
   ]
  },
  {
   "cell_type": "code",
   "execution_count": 7,
   "metadata": {},
   "outputs": [],
   "source": [
    "y_pks, zf = find_peaks(data)"
   ]
  },
  {
   "cell_type": "code",
   "execution_count": 8,
   "metadata": {},
   "outputs": [
    {
     "data": {
      "image/png": "[encoded data removed]",
      "text/plain": [
       "<Figure size 432x288 with 1 Axes>"
      ]
     },
     "metadata": {
      "needs_background": "light"
     },
     "output_type": "display_data"
    }
   ],
   "source": [
    "plt.plot(pattern.x,y_pks)\n",
    "plt.show()"
   ]
  },
  {
   "cell_type": "code",
   "execution_count": 9,
   "metadata": {},
   "outputs": [
    {
     "data": {
      "image/png": "[encoded data removed]",
      "text/plain": [
       "<Figure size 432x288 with 1 Axes>"
      ]
     },
     "metadata": {
      "needs_background": "light"
     },
     "output_type": "display_data"
    }
   ],
   "source": [
    "y_scl=scale_peaks(y_pks,zf)\n",
    "plt.plot(pattern.x,y_scl)\n",
    "plt.show()"
   ]
  },
  {
   "cell_type": "code",
   "execution_count": 10,
   "metadata": {},
   "outputs": [
    {
     "data": {
      "image/png": "[encoded data removed]",
      "text/plain": [
       "<Figure size 432x288 with 1 Axes>"
      ]
     },
     "metadata": {
      "needs_background": "light"
     },
     "output_type": "display_data"
    }
   ],
   "source": [
    "y_elim=elim_peaks(y_scl,zf)\n",
    "plt.plot(pattern.x,y_elim)\n",
    "plt.show()"
   ]
  },
  {
   "cell_type": "code",
   "execution_count": 11,
   "metadata": {},
   "outputs": [
    {
     "data": {
      "image/png": "[encoded data removed]",
      "text/plain": [
       "<Figure size 432x288 with 1 Axes>"
      ]
     },
     "metadata": {
      "needs_background": "light"
     },
     "output_type": "display_data"
    }
   ],
   "source": [
    "y_shf=shift_peaks(y_elim,zf)\n",
    "plt.plot(pattern.x,y_shf)\n",
    "plt.show()"
   ]
  },
  {
   "cell_type": "markdown",
   "metadata": {},
   "source": [
    "\n",
    "# Auto-Augmentation\n",
    "- randomly generate unary, binary and ternary mixtures of the compounds"
   ]
  },
  {
   "cell_type": "code",
   "execution_count": 12,
   "metadata": {},
   "outputs": [],
   "source": [
    "nc = 29 # 36 classes\n",
    "ny = 180 # row nr of xrd-pattern"
   ]
  },
  {
   "cell_type": "markdown",
   "metadata": {},
   "source": [
    "## first create ground truth xrd pattern for every class and save for later usage"
   ]
  },
  {
   "cell_type": "code",
   "execution_count": 14,
   "metadata": {},
   "outputs": [],
   "source": [
    "y_all = np.zeros((nc,ny))\n",
    "xnew = np.arange(0,90,0.5) # consistent x-range for all patterns\n",
    "\n",
    "for i in range(nc):\n",
    "    curdir = './CLASSES/c'+str(i+1)+'/'\n",
    "    cif = glob.glob(curdir+'*.cif')\n",
    "    \n",
    "    if len(cif)>0: \n",
    "        #print(f'Processing file {cif[0]}')\n",
    "        structure = pm.Structure.from_file(cif[0]) #read in structure        \n",
    "        xrd = XRDCalculator() \n",
    "        pattern = xrd.get_pattern(structure)        \n",
    "        \n",
    "        # interpolate to fixed size grid\n",
    "        # do not extrapolate the data. Simply set y=0 instead to prevent \n",
    "        # creation of artificial peaks\n",
    "        f=interpolate.interp1d(pattern.x,pattern.y,fill_value=(0,0),bounds_error=False)    \n",
    "        ynew = ynew=f(xnew)\n",
    "\n",
    "        #data = np.array([xnew, ynew])        \n",
    "        y_all[i,:] = np.copy(ynew)\n",
    "    else:\n",
    "        # leave zeros for this non-existent class\n",
    "        pass\n",
    "        \n",
    "np.savetxt('allpattern.txt',y_all,fmt='%.2f')        "
   ]
  },
  {
   "cell_type": "markdown",
   "metadata": {},
   "source": [
    "# Start by Creating data for unary systems"
   ]
  },
  {
   "cell_type": "code",
   "execution_count": 15,
   "metadata": {},
   "outputs": [],
   "source": [
    "m=1000 # nr of examples per class\n",
    "mtotal=m*nc"
   ]
  },
  {
   "cell_type": "code",
   "execution_count": 16,
   "metadata": {},
   "outputs": [],
   "source": [
    "X = np.zeros((mtotal,ny)) # input vector\n",
    "Y = np.zeros((mtotal,nc)) # output vector\n",
    "np.random.seed(1)\n",
    "\n",
    "cnt=0\n",
    "for i in range(nc):\n",
    "    # print(f'processing iteration {i} of {m-1}')\n",
    "    # pick randomly a class    \n",
    "    #randclass = np.random.randint(1,nc)   \n",
    "        \n",
    "    y = y_all[i,:]            \n",
    "    inarr = np.array([xnew,y])\n",
    "    #print(i,cnt)\n",
    "    y_pks, zf = find_peaks(inarr)        \n",
    "    for n in range(m): # 5 examples per class\n",
    "        #prepare input vec        \n",
    "        y_scl=scale_peaks(y_pks,zf)\n",
    "        y_elim=elim_peaks(y_scl,zf)\n",
    "        y_shf=shift_peaks(y_elim,zf)\n",
    "\n",
    "        X[cnt,:] = np.copy(y_shf[:,0])\n",
    "        # prepare output vec    \n",
    "        Y[cnt,i] = 1.0\n",
    "        cnt = cnt+1"
   ]
  },
  {
   "cell_type": "markdown",
   "metadata": {},
   "source": [
    "## Explore data: Randomly check some plots"
   ]
  },
  {
   "cell_type": "code",
   "execution_count": 17,
   "metadata": {},
   "outputs": [
    {
     "name": "stdout",
     "output_type": "stream",
     "text": [
      "177\n"
     ]
    },
    {
     "data": {
      "image/png": "[encoded data removed]",
      "text/plain": [
       "<Figure size 432x288 with 1 Axes>"
      ]
     },
     "metadata": {
      "needs_background": "light"
     },
     "output_type": "display_data"
    },
    {
     "name": "stdout",
     "output_type": "stream",
     "text": [
      "794\n"
     ]
    },
    {
     "data": {
      "image/png": "[encoded data removed]",
      "text/plain": [
       "<Figure size 432x288 with 1 Axes>"
      ]
     },
     "metadata": {
      "needs_background": "light"
     },
     "output_type": "display_data"
    },
    {
     "name": "stdout",
     "output_type": "stream",
     "text": [
      "327\n"
     ]
    },
    {
     "data": {
      "image/png": "[encoded data removed]",
      "text/plain": [
       "<Figure size 432x288 with 1 Axes>"
      ]
     },
     "metadata": {
      "needs_background": "light"
     },
     "output_type": "display_data"
    },
    {
     "name": "stdout",
     "output_type": "stream",
     "text": [
      "544\n"
     ]
    },
    {
     "data": {
      "image/png": "[encoded data removed]",
      "text/plain": [
       "<Figure size 432x288 with 1 Axes>"
      ]
     },
     "metadata": {
      "needs_background": "light"
     },
     "output_type": "display_data"
    },
    {
     "name": "stdout",
     "output_type": "stream",
     "text": [
      "386\n"
     ]
    },
    {
     "data": {
      "image/png": "[encoded data removed]",
      "text/plain": [
       "<Figure size 432x288 with 1 Axes>"
      ]
     },
     "metadata": {
      "needs_background": "light"
     },
     "output_type": "display_data"
    }
   ],
   "source": [
    "for i in range(5):\n",
    "    foo = np.random.randint(1,m)\n",
    "    print(foo)\n",
    "    y = X[foo-1,:]\n",
    "    plt.plot(xnew,y)\n",
    "    plt.show()"
   ]
  },
  {
   "cell_type": "markdown",
   "metadata": {},
   "source": [
    "# Check unary system classification with conventional ML-approaches"
   ]
  },
  {
   "cell_type": "markdown",
   "metadata": {},
   "source": [
    "## SVM performance"
   ]
  },
  {
   "cell_type": "code",
   "execution_count": 18,
   "metadata": {},
   "outputs": [],
   "source": [
    "from sklearn import svm,metrics\n",
    "from sklearn.model_selection import train_test_split\n",
    "from skmultilearn.problem_transform import BinaryRelevance"
   ]
  },
  {
   "cell_type": "code",
   "execution_count": 19,
   "metadata": {},
   "outputs": [],
   "source": [
    "X_train, X_test, y_train, y_test = train_test_split(X, Y, test_size=0.1,random_state = 0,)"
   ]
  },
  {
   "cell_type": "code",
   "execution_count": 20,
   "metadata": {},
   "outputs": [
    {
     "name": "stdout",
     "output_type": "stream",
     "text": [
      "Accuracy: 0.7175862068965517\n",
      "Precision: 0.6732394366197183\n",
      "Recall: 0.9889655172413793\n",
      "F1: 0.8011173184357541\n"
     ]
    }
   ],
   "source": [
    "model=svm.SVC(kernel='rbf',class_weight='balanced',tol=1e-4,C=1.0)\n",
    "clf = BinaryRelevance(model)\n",
    "clf.fit(X_train,y_train,)\n",
    "\n",
    "y_pred = clf.predict(X_test)\n",
    "print(\"Accuracy:\",metrics.accuracy_score(y_test, y_pred))\n",
    "print(\"Precision:\",metrics.precision_score(y_test, y_pred,average='micro'))\n",
    "print(\"Recall:\",metrics.recall_score(y_test, y_pred,average='micro'))\n",
    "print(\"F1:\",metrics.f1_score(y_test, y_pred,average='micro'))"
   ]
  },
  {
   "cell_type": "markdown",
   "metadata": {},
   "source": [
    "## Random forest performance"
   ]
  },
  {
   "cell_type": "code",
   "execution_count": 21,
   "metadata": {},
   "outputs": [],
   "source": [
    "from sklearn.ensemble import RandomForestClassifier"
   ]
  },
  {
   "cell_type": "code",
   "execution_count": 22,
   "metadata": {},
   "outputs": [
    {
     "name": "stdout",
     "output_type": "stream",
     "text": [
      "Accuracy: 0.9472413793103448\n",
      "Precision: 0.9713578500707214\n",
      "Recall: 0.9472413793103448\n",
      "F1: 0.9591480446927375\n"
     ]
    }
   ],
   "source": [
    "rfc = RandomForestClassifier(bootstrap=True,\n",
    "                              max_depth=None,\n",
    "                              max_features='sqrt',\n",
    "                              random_state=1,class_weight='balanced',\n",
    "                              n_jobs=-1,)\n",
    "\n",
    "rfc.fit(X_train,y_train)\n",
    "\n",
    "y_pred = rfc.predict(X_test)\n",
    "print(\"Accuracy:\",metrics.accuracy_score(y_test, y_pred))\n",
    "print(\"Precision:\",metrics.precision_score(y_test, y_pred,average='micro'))\n",
    "print(\"Recall:\",metrics.recall_score(y_test, y_pred,average='micro'))\n",
    "print(\"F1:\",metrics.f1_score(y_test, y_pred,average='micro'))"
   ]
  },
  {
   "cell_type": "markdown",
   "metadata": {},
   "source": [
    "## Naive Bayes, SGD, LogRes performance"
   ]
  },
  {
   "cell_type": "code",
   "execution_count": null,
   "metadata": {},
   "outputs": [],
   "source": [
    "from sklearn.naive_bayes import MultinomialNB\n",
    "from sklearn.multiclass import OneVsRestClassifier\n",
    "from sklearn.linear_model import LogisticRegression\n",
    "from sklearn.linear_model import SGDClassifier\n",
    "\n",
    "gnb = MultinomialNB()\n",
    "sgd = SGDClassifier(loss='hinge', penalty='l2', alpha=1e-3, \n",
    "                    random_state=42,max_iter=1e4, class_weight='balanced',n_jobs=-1)\n",
    "lr = LogisticRegression(class_weight='balanced',max_iter=1e4,n_jobs=-1)\n",
    "\n",
    "\n",
    "for classifier in [gnb,sgd,lr]:\n",
    "    clf=OneVsRestClassifier(classifier) # exactly the same as binary relevance\n",
    "    clf.fit(X_train,y_train)\n",
    "    y_pred = clf.predict(X_test)\n",
    "    \n",
    "    print(\"Accuracy:\",metrics.accuracy_score(y_test, y_pred))\n",
    "    print(\"Precision:\",metrics.precision_score(y_test, y_pred,average='micro'))\n",
    "    print(\"Recall:\",metrics.recall_score(y_test, y_pred,average='micro'))\n",
    "    print(\"F1:\",metrics.f1_score(y_test, y_pred,average='micro'))\n",
    "    print(\"-------------\")"
   ]
  },
  {
   "cell_type": "markdown",
   "metadata": {},
   "source": [
    "# Simple ConvNet performance"
   ]
  },
  {
   "cell_type": "code",
   "execution_count": null,
   "metadata": {},
   "outputs": [],
   "source": [
    "#os.environ['KERAS_BACKEND']='tensorflow'\n",
    "from keras.models import Model\n",
    "from keras.models import Sequential\n",
    "import keras as K\n",
    "\n",
    "BATCH_SIZE=128"
   ]
  },
  {
   "cell_type": "code",
   "execution_count": null,
   "metadata": {},
   "outputs": [],
   "source": [
    "X3d = np.expand_dims(X_train, axis=-1) #conv1d expects 3d array input"
   ]
  },
  {
   "cell_type": "code",
   "execution_count": null,
   "metadata": {},
   "outputs": [],
   "source": [
    "model = Sequential() \n",
    "wreg = K.regularizers.l2(l=1e-6) \n",
    "model.add(K.layers.Conv1D(32, 8,strides=8, padding='same',\n",
    "                          input_shape=(180,1), activation='relu', \n",
    "                          kernel_regularizer=wreg))\n",
    "\n",
    "model.add(K.layers.Conv1D(32, 5,strides=5, \n",
    "                          padding='same', activation='relu',kernel_regularizer=wreg))\n",
    "\n",
    "model.add(K.layers.Conv1D(16, 3,strides=3, padding='same', activation='relu',kernel_regularizer=wreg))\n",
    "model.add(K.layers.Flatten())\n",
    "model.add(K.layers.Dense(512,activation='relu',kernel_regularizer=wreg))\n",
    "model.add(K.layers.Dense(nc, activation='sigmoid'))\n",
    "\n",
    "\n",
    "optimizer = K.optimizers.Adam()\n",
    "\n",
    "# Compile model\n",
    "model.compile(loss='binary_crossentropy',\n",
    "              optimizer=optimizer,\n",
    "              metrics=['accuracy'],\n",
    "\n",
    "              )\n",
    "\n",
    "model.summary()"
   ]
  },
  {
   "cell_type": "code",
   "execution_count": null,
   "metadata": {},
   "outputs": [],
   "source": [
    "#train_x = train_x.reshape(train_x.shape[0],n_input,1)\n",
    "history = model.fit(X3d,y_train,batch_size=BATCH_SIZE, \n",
    "                    epochs=50, verbose=1,validation_split=0.1,\n",
    "                   )"
   ]
  },
  {
   "cell_type": "code",
   "execution_count": null,
   "metadata": {},
   "outputs": [],
   "source": [
    "plt.plot(history.history['acc'])\n",
    "plt.plot(history.history['val_acc'])\n",
    "plt.title('model accuracy')\n",
    "plt.ylabel('accuracy')\n",
    "plt.xlabel('epoch')\n",
    "plt.legend(['train', 'val'], loc='upper left')\n",
    "plt.show()"
   ]
  },
  {
   "cell_type": "code",
   "execution_count": null,
   "metadata": {},
   "outputs": [],
   "source": [
    "plt.plot(history.history['loss'])\n",
    "plt.plot(history.history['val_loss'])\n",
    "plt.title('model loss')\n",
    "plt.ylabel('loss')\n",
    "plt.xlabel('epoch')\n",
    "plt.legend(['train', 'val'], loc='upper left')\n",
    "plt.show()"
   ]
  },
  {
   "cell_type": "markdown",
   "metadata": {},
   "source": [
    "# Create binary system dataset\n",
    "\n",
    "## each class should be represented equally well (the same amount of times) in the training set\n",
    "\n",
    "### Therefore I'm using permutations instead of combinations, where tuples such as (1,1), (2,2) etc are omitted"
   ]
  },
  {
   "cell_type": "code",
   "execution_count": null,
   "metadata": {},
   "outputs": [],
   "source": [
    "import itertools\n",
    "foo=np.arange(1,nc+1) # elements 1,2,3,4,...n_classes\n",
    "bin_c = list(itertools.permutations(foo,2)) # nr of binary mixtures"
   ]
  },
  {
   "cell_type": "code",
   "execution_count": null,
   "metadata": {},
   "outputs": [],
   "source": [
    "mc = 200 # training examples per permutation\n",
    "mbintotal = mc * len(bin_c)"
   ]
  },
  {
   "cell_type": "code",
   "execution_count": null,
   "metadata": {},
   "outputs": [],
   "source": [
    "Xbin = np.zeros((mbintotal,ny)) # input vector\n",
    "Ybin = np.zeros((mbintotal,nc)) # output vector\n",
    "\n",
    "np.random.seed(1)\n",
    "\n",
    "cnt=0\n",
    "for i in range(len(bin_c)):        \n",
    "    c1 = bin_c[i][0] # 1st class picked\n",
    "    c2 = bin_c[i][1] # 2nd class picked\n",
    "    \n",
    "    y1 = y_all[c1-1,:]\n",
    "    y2 = y_all[c2-1,:]\n",
    "    \n",
    "    inarr1 = np.array([xnew,y1])\n",
    "    inarr2 = np.array([xnew,y2])\n",
    "    \n",
    "    y1_pks, zf1 = find_peaks(inarr1)\n",
    "    y2_pks, zf2 = find_peaks(inarr2)\n",
    "    \n",
    "    for n in range(mc): # examples per combination\n",
    "        #prepare input vec        \n",
    "        y1_scl=scale_peaks(y1_pks,zf1)\n",
    "        y1_elim=elim_peaks(y1_scl,zf1)\n",
    "        y1_shf=shift_peaks(y1_elim,zf1)\n",
    "        \n",
    "        y2_scl=scale_peaks(y2_pks,zf2)\n",
    "        y2_elim=elim_peaks(y2_scl,zf2)\n",
    "        y2_shf=shift_peaks(y2_elim,zf2)\n",
    "        \n",
    "        y_merged = y1_shf + y2_shf \n",
    "        Xbin[cnt,:] = np.copy(y_merged[:,0])\n",
    "        # prepare output vec    \n",
    "        Ybin[cnt,c1-1] = 1.0\n",
    "        Ybin[cnt,c2-1] = 1.0\n",
    "        \n",
    "        cnt = cnt+1"
   ]
  },
  {
   "cell_type": "markdown",
   "metadata": {},
   "source": [
    "## randomly check some merged patterns"
   ]
  },
  {
   "cell_type": "code",
   "execution_count": null,
   "metadata": {},
   "outputs": [],
   "source": [
    "for i in range(3):\n",
    "    foo = np.random.randint(1,mtotal)\n",
    "    print(foo,np.argwhere(Ybin[foo-1,:]==1))\n",
    "    y = Xbin[foo-1,:]\n",
    "    plt.plot(xnew,y)\n",
    "    plt.show()"
   ]
  },
  {
   "cell_type": "markdown",
   "metadata": {},
   "source": [
    "# Create data for ternary systems\n",
    "## Warning: This requires an enormous amount of RAM\n",
    "### For testing purposes it's recommended to reduce the number of samples per permutation $mt$"
   ]
  },
  {
   "cell_type": "code",
   "execution_count": null,
   "metadata": {},
   "outputs": [],
   "source": [
    "mt = 50 # training examples per permutation\n",
    "foo=np.arange(1,nc+1) \n",
    "ter_c = list(itertools.permutations(foo,3)\n",
    "mtertotal = mt * len(ter_c)"
   ]
  },
  {
   "cell_type": "code",
   "execution_count": null,
   "metadata": {},
   "outputs": [],
   "source": [
    "Xter = np.zeros((mtertotal,ny))  \n",
    "Yter = np.zeros((mtertotal,nc)) \n",
    "\n",
    "np.random.seed(1)\n",
    "\n",
    "cnt=0\n",
    "for i in range(len(ter_c)):        \n",
    "    c1 = ter_c[i][0] \n",
    "    c2 = ter_c[i][1] \n",
    "    c3 = ter_c[i][2] \n",
    "    \n",
    "    y1 = y_all[c1-1,:]\n",
    "    y2 = y_all[c2-1,:]\n",
    "    y3 = y_all[c3-1,:]\n",
    "    \n",
    "    inarr1 = np.array([xnew,y1])\n",
    "    inarr2 = np.array([xnew,y2])\n",
    "    inarr3 = np.array([xnew,y3])\n",
    "    \n",
    "    y1_pks, zf1 = find_peaks(inarr1)\n",
    "    y2_pks, zf2 = find_peaks(inarr2)\n",
    "    y3_pks, zf3 = find_peaks(inarr3)\n",
    "    \n",
    "    for n in range(mt): # samples per permutation\n",
    "        #prepare input vec        \n",
    "        y1_scl=scale_peaks(y1_pks,zf1)\n",
    "        y1_elim=elim_peaks(y1_scl,zf1)\n",
    "        y1_shf=shift_peaks(y1_elim,zf1)\n",
    "        \n",
    "        y2_scl=scale_peaks(y2_pks,zf2)\n",
    "        y2_elim=elim_peaks(y2_scl,zf2)\n",
    "        y2_shf=shift_peaks(y2_elim,zf2)\n",
    "        \n",
    "        y3_scl=scale_peaks(y3_pks,zf3)\n",
    "        y3_elim=elim_peaks(y3_scl,zf3)\n",
    "        y3_shf=shift_peaks(y3_elim,zf3)        \n",
    "        \n",
    "        y_merged = y1_shf + y2_shf + y3_shf\n",
    "        Xter[cnt,:] = np.copy(y_merged[:,0])\n",
    "        # prepare output vec    \n",
    "        Yter[cnt,c1-1] = 1.0\n",
    "        Yter[cnt,c2-1] = 1.0\n",
    "        Yter[cnt,c3-1] = 1.0\n",
    "        \n",
    "        cnt = cnt+1"
   ]
  },
  {
   "cell_type": "markdown",
   "metadata": {},
   "source": [
    "## concat Xun (unary) and Xbin (binary) and Xter (ternary) training sets\n",
    "\n"
   ]
  },
  {
   "cell_type": "code",
   "execution_count": null,
   "metadata": {},
   "outputs": [],
   "source": [
    "X=np.concatenate([Xun,Xbin,Xter],axis=0)\n",
    "Y=np.concatenate([Yun,Ybin,Yter],axis=0)\n",
    "X3d = np.expand_dims(X, axis=-1)  #conv1d expects 3d array input\n",
    "print(X.shape)\n",
    "\n",
    "np.save('Xall',X)\n",
    "np.save('Yall',Y)"
   ]
  },
  {
   "cell_type": "markdown",
   "metadata": {},
   "source": [
    "# That's it. The NN-setup and training takes place in the file 'XRD_NN.ipynb'"
   ]
  }
 ],
 "metadata": {
  "kernelspec": {
   "display_name": "Python 3",
   "language": "python",
   "name": "python3"
  },
  "language_info": {
   "codemirror_mode": {
    "name": "ipython",
    "version": 3
   },
   "file_extension": ".py",
   "mimetype": "text/x-python",
   "name": "python",
   "nbconvert_exporter": "python",
   "pygments_lexer": "ipython3",
   "version": "3.6.10"
  }
 },
 "nbformat": 4,
 "nbformat_minor": 4
}
